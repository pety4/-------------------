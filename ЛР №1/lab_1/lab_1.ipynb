{
 "cells": [
  {
   "cell_type": "code",
   "execution_count": 4,
   "metadata": {},
   "outputs": [],
   "source": [
    "import lab_1"
   ]
  },
  {
   "cell_type": "code",
   "execution_count": 5,
   "metadata": {},
   "outputs": [
    {
     "name": "stdout",
     "output_type": "stream",
     "text": [
      "[(3.685537, 0.266666, 3.418871, 0.205447, 3.624318), (3.685537, 1.149674, 2.535863, 0.488889, 3.024752), (3.685537, 2.997598, 0.687939, 0.194553, 0.882492), (3.685537, 3.512115, 0.173422, 0.088889, 0.262311)]\n",
      "[3.418871, 2.535863, 0.687939, 0.173422]\n"
     ]
    }
   ],
   "source": [
    "log_file_name=[[],[]]\n",
    "matrix_file_name=[[],[]]\n",
    "\n",
    "exp_2={'13':['500','450','400','350'],\n",
    "           '17':['600','550','500','450','400']}\n",
    "for i in exp_2['13']:\n",
    "        log_file_name[0].append(f'log_{13}_keys_{i}_ms.csv')\n",
    "        matrix_file_name[0].append(f'matrix_{13}_keys_{i}_ms.csv')\n",
    "for i in exp_2['17']:\n",
    "    log_file_name[1].append(f'log_{17}_keys_{i}_ms.csv')\n",
    "    matrix_file_name[1].append(f'matrix_{17}_keys_{i}_ms.csv')\n",
    "\n",
    "#форматируем файлы\n",
    "for log in log_file_name[0]:\n",
    "    lab_1.file_formatting(f'data_exp_2/{13}_keys/{log}')\n",
    "for matrix in matrix_file_name[0]:\n",
    "    lab_1.file_formatting(f'data_exp_2/{13}_keys/{matrix}')\n",
    "\n",
    "#считываем данные с файлов\n",
    "log=[]\n",
    "for file_name in log_file_name[0]:\n",
    "    log.append(lab_1.np.loadtxt(f'data_exp_2/{13}_keys/{file_name}', delimiter=\",\"))\n",
    "matrix=[]\n",
    "for file_name in matrix_file_name[0]:\n",
    "     matrix.append(lab_1.np.loadtxt(f'data_exp_2/{13}_keys/{file_name}', delimiter=\",\"))\n",
    "\n",
    "info_channel_diagram=[]\n",
    "I_X_Y=[]\n",
    "for m in matrix:\n",
    "    info_channel_diagram.append(lab_1.info_channel_diagram_count(m))\n",
    "    I_X_Y.append(info_channel_diagram[-1][2])\n",
    "print(info_channel_diagram)\n",
    "print(I_X_Y)"
   ]
  },
  {
   "cell_type": "code",
   "execution_count": 15,
   "metadata": {},
   "outputs": [],
   "source": [
    "info_channel_diagram_string=''\n",
    "for i in range(len(info_channel_diagram)):\n",
    "    info_channel_diagram_string+=(f'\\nВремя экспозиции: {exp_2['13'][i]} мс\\n')\n",
    "    info_channel_diagram_string+=(f'H(X)={info_channel_diagram[i][0]}\\n'\n",
    "                                    f'H(X/Y)={info_channel_diagram[i][1]}\\n'\n",
    "                                    f'I(X,Y)={info_channel_diagram[i][2]}\\n'\n",
    "                                    f'H(Y/X)={info_channel_diagram[i][3]}\\n'\n",
    "                                    f'H(Y)={info_channel_diagram[i][4]}\\n')"
   ]
  },
  {
   "cell_type": "code",
   "execution_count": 17,
   "metadata": {},
   "outputs": [
    {
     "name": "stdout",
     "output_type": "stream",
     "text": [
      "\n",
      "Время экспозиции: 500 мс\n",
      "H(X)=3.685537\n",
      "H(X/Y)=0.266666\n",
      "I(X,Y)=3.418871\n",
      "H(Y/X)=0.205447\n",
      "H(Y)=3.624318\n",
      "\n",
      "Время экспозиции: 450 мс\n",
      "H(X)=3.685537\n",
      "H(X/Y)=1.149674\n",
      "I(X,Y)=2.535863\n",
      "H(Y/X)=0.488889\n",
      "H(Y)=3.024752\n",
      "\n",
      "Время экспозиции: 400 мс\n",
      "H(X)=3.685537\n",
      "H(X/Y)=2.997598\n",
      "I(X,Y)=0.687939\n",
      "H(Y/X)=0.194553\n",
      "H(Y)=0.882492\n",
      "\n",
      "Время экспозиции: 350 мс\n",
      "H(X)=3.685537\n",
      "H(X/Y)=3.512115\n",
      "I(X,Y)=0.173422\n",
      "H(Y/X)=0.088889\n",
      "H(Y)=0.262311\n",
      "\n"
     ]
    }
   ],
   "source": [
    "print(info_channel_diagram_string)"
   ]
  }
 ],
 "metadata": {
  "kernelspec": {
   "display_name": "Python 3",
   "language": "python",
   "name": "python3"
  },
  "language_info": {
   "codemirror_mode": {
    "name": "ipython",
    "version": 3
   },
   "file_extension": ".py",
   "mimetype": "text/x-python",
   "name": "python",
   "nbconvert_exporter": "python",
   "pygments_lexer": "ipython3",
   "version": "3.12.2"
  }
 },
 "nbformat": 4,
 "nbformat_minor": 2
}
