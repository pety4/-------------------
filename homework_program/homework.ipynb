{
 "cells": [
  {
   "cell_type": "markdown",
   "metadata": {},
   "source": [
    "Подключаем библиотеки для работы с массивами и построения графиков."
   ]
  },
  {
   "cell_type": "code",
   "execution_count": 561,
   "metadata": {},
   "outputs": [],
   "source": [
    "import pandas as pd\n",
    "import matplotlib.pyplot as plt\n",
    "import numpy as np\n",
    "import csv\n",
    "from IPython.display import Markdown"
   ]
  },
  {
   "cell_type": "markdown",
   "metadata": {},
   "source": [
    "Считываем матрицу замеров из файла \"data.csv\""
   ]
  },
  {
   "cell_type": "code",
   "execution_count": 562,
   "metadata": {},
   "outputs": [
    {
     "name": "stdout",
     "output_type": "stream",
     "text": [
      "Матрица замеров:\n",
      "     0    1    2    3    4    5    6    7    8    9    10   11   12   13   14  \\\n",
      "0   0.0  0.0  0.0  0.0  0.0  0.0  0.0  0.0  0.0  0.0  0.0  0.0  0.0  0.0  0.0   \n",
      "1   0.0  0.0  3.0  0.0  0.0  0.0  0.0  0.0  0.0  0.0  0.0  0.0  0.0  0.0  0.0   \n",
      "2   0.0  0.0  3.0  0.0  0.0  0.0  0.0  0.0  0.0  0.0  0.0  0.0  0.0  0.0  0.0   \n",
      "3   0.0  0.0  3.0  0.0  0.0  0.0  0.0  0.0  0.0  0.0  0.0  0.0  0.0  0.0  0.0   \n",
      "4   0.0  0.0  0.0  0.0  4.0  0.0  0.0  0.0  0.0  0.0  0.0  0.0  0.0  0.0  0.0   \n",
      "5   0.0  0.0  0.0  0.0  0.0  4.0  0.0  0.0  0.0  0.0  0.0  0.0  0.0  0.0  0.0   \n",
      "6   0.0  0.0  0.0  0.0  0.0  0.0  4.0  0.0  0.0  0.0  0.0  0.0  0.0  0.0  0.0   \n",
      "7   0.0  0.0  0.0  0.0  0.0  0.0  0.0  4.0  0.0  0.0  0.0  0.0  0.0  0.0  0.0   \n",
      "8   0.0  0.0  0.0  0.0  0.0  0.0  0.0  0.0  4.0  0.0  0.0  0.0  0.0  0.0  0.0   \n",
      "9   0.0  0.0  0.0  0.0  0.0  0.0  0.0  0.0  0.0  3.0  0.0  0.0  0.0  0.0  0.0   \n",
      "10  0.0  0.0  0.0  0.0  0.0  0.0  0.0  0.0  0.0  0.0  3.0  0.0  0.0  0.0  0.0   \n",
      "11  0.0  0.0  0.0  0.0  0.0  0.0  0.0  0.0  0.0  0.0  0.0  3.0  0.0  0.0  0.0   \n",
      "12  0.0  0.0  0.0  0.0  0.0  0.0  0.0  0.0  0.0  0.0  0.0  0.0  4.0  0.0  0.0   \n",
      "\n",
      "     15   16   17  \n",
      "0   0.0  0.0  3.0  \n",
      "1   0.0  0.0  0.0  \n",
      "2   0.0  0.0  0.0  \n",
      "3   0.0  0.0  0.0  \n",
      "4   0.0  0.0  0.0  \n",
      "5   0.0  0.0  0.0  \n",
      "6   0.0  0.0  0.0  \n",
      "7   0.0  0.0  0.0  \n",
      "8   0.0  0.0  0.0  \n",
      "9   0.0  0.0  0.0  \n",
      "10  0.0  0.0  0.0  \n",
      "11  0.0  0.0  0.0  \n",
      "12  0.0  0.0  0.0  \n"
     ]
    }
   ],
   "source": [
    "data_matrix = np.loadtxt(\"data_ans_2.csv\", delimiter=\",\")\n",
    "n,m=data_matrix.shape\n",
    "print(f\"Матрица замеров:\\n\"\n",
    "      f\"{pd.DataFrame(data=data_matrix)}\")"
   ]
  },
  {
   "cell_type": "markdown",
   "metadata": {},
   "source": [
    "Определим общее число испытаний $N$ (пар событий $x_i y_i$)"
   ]
  },
  {
   "cell_type": "code",
   "execution_count": 563,
   "metadata": {},
   "outputs": [
    {
     "data": {
      "text/markdown": [
       "\n",
       "$N=45.0$"
      ],
      "text/plain": [
       "<IPython.core.display.Markdown object>"
      ]
     },
     "execution_count": 563,
     "metadata": {},
     "output_type": "execute_result"
    }
   ],
   "source": [
    "N=data_matrix.sum()\n",
    "Markdown(rf\"\"\"\n",
    "$N={N}$\"\"\")"
   ]
  },
  {
   "cell_type": "markdown",
   "metadata": {},
   "source": [
    "$P(x_i,y_j)=\\frac{n_{ij}}{N}$ - совместная вероятность события $x_i,y_j$. На основе этой формулы построим матрицу совместных вероятностей событий"
   ]
  },
  {
   "cell_type": "code",
   "execution_count": 564,
   "metadata": {},
   "outputs": [
    {
     "name": "stdout",
     "output_type": "stream",
     "text": [
      "Матрица совместных вероятностей:\n",
      "     0    1         2    3         4         5         6         7         8   \\\n",
      "0   0.0  0.0  0.000000  0.0  0.000000  0.000000  0.000000  0.000000  0.000000   \n",
      "1   0.0  0.0  0.066667  0.0  0.000000  0.000000  0.000000  0.000000  0.000000   \n",
      "2   0.0  0.0  0.066667  0.0  0.000000  0.000000  0.000000  0.000000  0.000000   \n",
      "3   0.0  0.0  0.066667  0.0  0.000000  0.000000  0.000000  0.000000  0.000000   \n",
      "4   0.0  0.0  0.000000  0.0  0.088889  0.000000  0.000000  0.000000  0.000000   \n",
      "5   0.0  0.0  0.000000  0.0  0.000000  0.088889  0.000000  0.000000  0.000000   \n",
      "6   0.0  0.0  0.000000  0.0  0.000000  0.000000  0.088889  0.000000  0.000000   \n",
      "7   0.0  0.0  0.000000  0.0  0.000000  0.000000  0.000000  0.088889  0.000000   \n",
      "8   0.0  0.0  0.000000  0.0  0.000000  0.000000  0.000000  0.000000  0.088889   \n",
      "9   0.0  0.0  0.000000  0.0  0.000000  0.000000  0.000000  0.000000  0.000000   \n",
      "10  0.0  0.0  0.000000  0.0  0.000000  0.000000  0.000000  0.000000  0.000000   \n",
      "11  0.0  0.0  0.000000  0.0  0.000000  0.000000  0.000000  0.000000  0.000000   \n",
      "12  0.0  0.0  0.000000  0.0  0.000000  0.000000  0.000000  0.000000  0.000000   \n",
      "\n",
      "          9         10        11        12   13   14   15   16        17  \n",
      "0   0.000000  0.000000  0.000000  0.000000  0.0  0.0  0.0  0.0  0.066667  \n",
      "1   0.000000  0.000000  0.000000  0.000000  0.0  0.0  0.0  0.0  0.000000  \n",
      "2   0.000000  0.000000  0.000000  0.000000  0.0  0.0  0.0  0.0  0.000000  \n",
      "3   0.000000  0.000000  0.000000  0.000000  0.0  0.0  0.0  0.0  0.000000  \n",
      "4   0.000000  0.000000  0.000000  0.000000  0.0  0.0  0.0  0.0  0.000000  \n",
      "5   0.000000  0.000000  0.000000  0.000000  0.0  0.0  0.0  0.0  0.000000  \n",
      "6   0.000000  0.000000  0.000000  0.000000  0.0  0.0  0.0  0.0  0.000000  \n",
      "7   0.000000  0.000000  0.000000  0.000000  0.0  0.0  0.0  0.0  0.000000  \n",
      "8   0.000000  0.000000  0.000000  0.000000  0.0  0.0  0.0  0.0  0.000000  \n",
      "9   0.066667  0.000000  0.000000  0.000000  0.0  0.0  0.0  0.0  0.000000  \n",
      "10  0.000000  0.066667  0.000000  0.000000  0.0  0.0  0.0  0.0  0.000000  \n",
      "11  0.000000  0.000000  0.066667  0.000000  0.0  0.0  0.0  0.0  0.000000  \n",
      "12  0.000000  0.000000  0.000000  0.088889  0.0  0.0  0.0  0.0  0.000000  \n"
     ]
    }
   ],
   "source": [
    "joint_probabilities_matrix=data_matrix/N\n",
    "print(f\"Матрица совместных вероятностей:\\n\"\n",
    "      f\"{pd.DataFrame(data=joint_probabilities_matrix)}\")"
   ]
  },
  {
   "cell_type": "markdown",
   "metadata": {},
   "source": [
    "Рассчитаем вектора $P(x_i)$ и $P(y_i)$"
   ]
  },
  {
   "cell_type": "code",
   "execution_count": 565,
   "metadata": {},
   "outputs": [
    {
     "data": {
      "text/markdown": [
       "\n",
       "$P(x_i)=$[0.06666667 0.06666667 0.06666667 0.06666667 0.08888889 0.08888889\n",
       " 0.08888889 0.08888889 0.08888889 0.06666667 0.06666667 0.06666667\n",
       " 0.08888889]$\\\\$\n",
       "$P(y_i)=$[0.         0.         0.2        0.         0.08888889 0.08888889\n",
       " 0.08888889 0.08888889 0.08888889 0.06666667 0.06666667 0.06666667\n",
       " 0.08888889 0.         0.         0.         0.         0.06666667]\n"
      ],
      "text/plain": [
       "<IPython.core.display.Markdown object>"
      ]
     },
     "execution_count": 565,
     "metadata": {},
     "output_type": "execute_result"
    }
   ],
   "source": [
    "p_x=np.zeros(n)\n",
    "p_y=np.zeros(m)\n",
    "for i in range(n):\n",
    "    for j in range(m):\n",
    "        p_x[i]+=joint_probabilities_matrix[i][j]\n",
    "for j in range(m):\n",
    "    for i in range(n):\n",
    "        p_y[j]+=joint_probabilities_matrix[i][j]\n",
    "Markdown(rf\"\"\"\n",
    "$P(x_i)=${p_x}$\\\\$\n",
    "$P(y_i)=${p_y}\n",
    "\"\"\")\n"
   ]
  },
  {
   "cell_type": "markdown",
   "metadata": {},
   "source": [
    "По формулам, указанным ниже найдём входную и выходную энтропию, энтропию сложного опыта XY и количество информации, которое несёт о событии X наблюдаемое событие Y.\n",
    "$\\\\H(X)=-\\sum_{i=1}^{4}P(x_i)log_2 P(x_i)\\\\$\n",
    "$H(Y)=-\\sum_{j=1}^{4}P(y_j)log_2 P(y_j)\\\\$\n",
    "$H(X,Y)=-\\sum_{i=1}^{4}\\sum_{j=1}^{4}P(x_i,y_j)log_2 P(x_i,y_j)\\\\$\n",
    "$I(X,Y)=H(X)+H(Y)-H(X,Y)\\\\$"
   ]
  },
  {
   "cell_type": "code",
   "execution_count": 566,
   "metadata": {},
   "outputs": [
    {
     "data": {
      "text/markdown": [
       "\n",
       "$H(X)=3.685537\\\\$\n",
       "$H(Y)=3.368545\\\\$\n",
       "$H(X,Y)=3.685537\\\\$\n",
       "$I(X,Y)=H(X)+H(Y)-H(X,Y)=3.685537+3.368545-3.685537=3.368545$\n"
      ],
      "text/plain": [
       "<IPython.core.display.Markdown object>"
      ]
     },
     "execution_count": 566,
     "metadata": {},
     "output_type": "execute_result"
    }
   ],
   "source": [
    "#функция для вычисления логарифма\n",
    "def log_2(x):\n",
    "    if x==0:\n",
    "        return 0\n",
    "    else: \n",
    "        return np.log2(x)\n",
    "    \n",
    "H_X=0.0\n",
    "H_Y=0.0\n",
    "H_X_Y=0.0\n",
    "for i in range(n):\n",
    "    H_X-=p_x[i]*log_2(p_x[i])\n",
    "for j in range(m):\n",
    "    H_Y-=p_y[j]*log_2(p_y[j])\n",
    "for i in range(n):\n",
    "    for j in range(m):\n",
    "        H_X_Y-=joint_probabilities_matrix[i][j]*log_2(joint_probabilities_matrix[i][j])\n",
    "H_X=np.round(H_X,6)\n",
    "H_Y=np.round(H_Y,6)\n",
    "H_X_Y=np.round(H_X_Y,6)\n",
    "I_X_Y=np.round(H_X+H_Y-H_X_Y,6)\n",
    "Markdown(rf\"\"\"\n",
    "$H(X)={H_X}\\\\$\n",
    "$H(Y)={H_Y}\\\\$\n",
    "$H(X,Y)={H_X_Y}\\\\$\n",
    "$I(X,Y)=H(X)+H(Y)-H(X,Y)={H_X}+{H_Y}-{H_X_Y}={I_X_Y}$\n",
    "\"\"\")"
   ]
  },
  {
   "cell_type": "markdown",
   "metadata": {},
   "source": [
    "Найдём условную энтропию события X при условии Y и условную энтропию события Y при условии X.\n",
    "$\\\\H(X/Y)=H(X)-I(X,Y)\\\\$\n",
    "$H(Y/X)=H(Y)-I(X,Y)$"
   ]
  },
  {
   "cell_type": "code",
   "execution_count": 567,
   "metadata": {},
   "outputs": [
    {
     "data": {
      "text/markdown": [
       "\n",
       "$H(X/Y)=3.685537-3.368545=0.316992\\\\$\n",
       "$H(Y/X)=3.368545-3.368545=0.0$\n"
      ],
      "text/plain": [
       "<IPython.core.display.Markdown object>"
      ]
     },
     "execution_count": 567,
     "metadata": {},
     "output_type": "execute_result"
    }
   ],
   "source": [
    "H_X_cond_Y=np.round(H_X-I_X_Y,6)\n",
    "H_Y_cond_X=np.round(H_Y-I_X_Y,6)\n",
    "Markdown(rf\"\"\"\n",
    "$H(X/Y)={H_X}-{I_X_Y}={H_X_cond_Y}\\\\$\n",
    "$H(Y/X)={H_Y}-{I_X_Y}={H_Y_cond_X}$\n",
    "\"\"\")"
   ]
  },
  {
   "cell_type": "markdown",
   "metadata": {},
   "source": [
    "Для проверки составим матрицу условных вероятностей.\n",
    "$\\\\P(x_i/y_j)=\\frac{P(x_i,y_j)}{P(y_j)}$"
   ]
  },
  {
   "cell_type": "code",
   "execution_count": 568,
   "metadata": {},
   "outputs": [
    {
     "name": "stdout",
     "output_type": "stream",
     "text": [
      "Матрица условных вероятностей:\n",
      "     0    1         2    3    4    5    6    7    8    9    10   11   12   13  \\\n",
      "0   0.0  0.0  0.000000  0.0  0.0  0.0  0.0  0.0  0.0  0.0  0.0  0.0  0.0  0.0   \n",
      "1   0.0  0.0  0.333333  0.0  0.0  0.0  0.0  0.0  0.0  0.0  0.0  0.0  0.0  0.0   \n",
      "2   0.0  0.0  0.333333  0.0  0.0  0.0  0.0  0.0  0.0  0.0  0.0  0.0  0.0  0.0   \n",
      "3   0.0  0.0  0.333333  0.0  0.0  0.0  0.0  0.0  0.0  0.0  0.0  0.0  0.0  0.0   \n",
      "4   0.0  0.0  0.000000  0.0  1.0  0.0  0.0  0.0  0.0  0.0  0.0  0.0  0.0  0.0   \n",
      "5   0.0  0.0  0.000000  0.0  0.0  1.0  0.0  0.0  0.0  0.0  0.0  0.0  0.0  0.0   \n",
      "6   0.0  0.0  0.000000  0.0  0.0  0.0  1.0  0.0  0.0  0.0  0.0  0.0  0.0  0.0   \n",
      "7   0.0  0.0  0.000000  0.0  0.0  0.0  0.0  1.0  0.0  0.0  0.0  0.0  0.0  0.0   \n",
      "8   0.0  0.0  0.000000  0.0  0.0  0.0  0.0  0.0  1.0  0.0  0.0  0.0  0.0  0.0   \n",
      "9   0.0  0.0  0.000000  0.0  0.0  0.0  0.0  0.0  0.0  1.0  0.0  0.0  0.0  0.0   \n",
      "10  0.0  0.0  0.000000  0.0  0.0  0.0  0.0  0.0  0.0  0.0  1.0  0.0  0.0  0.0   \n",
      "11  0.0  0.0  0.000000  0.0  0.0  0.0  0.0  0.0  0.0  0.0  0.0  1.0  0.0  0.0   \n",
      "12  0.0  0.0  0.000000  0.0  0.0  0.0  0.0  0.0  0.0  0.0  0.0  0.0  1.0  0.0   \n",
      "\n",
      "     14   15   16   17  \n",
      "0   0.0  0.0  0.0  1.0  \n",
      "1   0.0  0.0  0.0  0.0  \n",
      "2   0.0  0.0  0.0  0.0  \n",
      "3   0.0  0.0  0.0  0.0  \n",
      "4   0.0  0.0  0.0  0.0  \n",
      "5   0.0  0.0  0.0  0.0  \n",
      "6   0.0  0.0  0.0  0.0  \n",
      "7   0.0  0.0  0.0  0.0  \n",
      "8   0.0  0.0  0.0  0.0  \n",
      "9   0.0  0.0  0.0  0.0  \n",
      "10  0.0  0.0  0.0  0.0  \n",
      "11  0.0  0.0  0.0  0.0  \n",
      "12  0.0  0.0  0.0  0.0  \n"
     ]
    }
   ],
   "source": [
    "conditional_probability_matrix=np.zeros((n,m))\n",
    "for i in range(n):\n",
    "    for j in range(m):\n",
    "        if p_y[j]==0:\n",
    "            conditional_probability_matrix[i][j]=0\n",
    "        else:\n",
    "            conditional_probability_matrix[i][j]=joint_probabilities_matrix[i][j]/p_y[j]\n",
    "print(f\"Матрица условных вероятностей:\\n\"\n",
    "      f\"{pd.DataFrame(data=conditional_probability_matrix)}\")"
   ]
  },
  {
   "cell_type": "markdown",
   "metadata": {},
   "source": [
    "Найдём условную энтропию события X при условии Y:\n",
    "$\\\\H(X/Y)=-\\sum_{i=1}^{4}\\sum_{j=1}^{4}P(x_i,y_j)log_2 P(x_i/y_j)\\\\$\n",
    "$I_п(X,Y)=H(X)-H(X/Y)$"
   ]
  },
  {
   "cell_type": "code",
   "execution_count": 569,
   "metadata": {},
   "outputs": [
    {
     "data": {
      "text/markdown": [
       "\n",
       "$H_п(X/Y)=0.316993\\\\$\n",
       "$I_п(X,Y)=H(X)-H(X/Y)=3.685537-0.316993=3.368544$\n"
      ],
      "text/plain": [
       "<IPython.core.display.Markdown object>"
      ]
     },
     "execution_count": 569,
     "metadata": {},
     "output_type": "execute_result"
    }
   ],
   "source": [
    "H_X_cond_Y_check=0.0\n",
    "I_X_Y_check=0.0\n",
    "for i in range(n):\n",
    "    for j in range(m):\n",
    "        H_X_cond_Y_check-=joint_probabilities_matrix[i][j]*log_2(conditional_probability_matrix[i][j])\n",
    "H_X_cond_Y_check=np.round(H_X_cond_Y_check,6)\n",
    "I_X_Y_check=np.round(H_X-H_X_cond_Y_check,6)\n",
    "Markdown(rf\"\"\"\n",
    "$H_п(X/Y)={H_X_cond_Y_check}\\\\$\n",
    "$I_п(X,Y)=H(X)-H(X/Y)={H_X}-{H_X_cond_Y_check}={I_X_Y_check}$\n",
    "\"\"\")"
   ]
  },
  {
   "cell_type": "code",
   "execution_count": 570,
   "metadata": {},
   "outputs": [
    {
     "name": "stdout",
     "output_type": "stream",
     "text": [
      "Ошибка в вычислениях\n"
     ]
    }
   ],
   "source": [
    "if (H_X_cond_Y==H_X_cond_Y_check)&(I_X_Y==I_X_Y_check):\n",
    "    print(\"Проверка выполнена успешно!\")\n",
    "else:\n",
    "    print(\"Ошибка в вычислениях\")"
   ]
  }
 ],
 "metadata": {
  "kernelspec": {
   "display_name": "Python 3",
   "language": "python",
   "name": "python3"
  },
  "language_info": {
   "codemirror_mode": {
    "name": "ipython",
    "version": 3
   },
   "file_extension": ".py",
   "mimetype": "text/x-python",
   "name": "python",
   "nbconvert_exporter": "python",
   "pygments_lexer": "ipython3",
   "version": "3.12.2"
  }
 },
 "nbformat": 4,
 "nbformat_minor": 2
}
