{
 "cells": [
  {
   "cell_type": "markdown",
   "metadata": {},
   "source": [
    "Подключаем библиотеки для работы с массивами и построения графиков."
   ]
  },
  {
   "cell_type": "code",
   "execution_count": 434,
   "metadata": {},
   "outputs": [],
   "source": [
    "import pandas as pd\n",
    "import matplotlib.pyplot as plt\n",
    "import numpy as np\n",
    "import csv\n",
    "from IPython.display import Markdown\n",
    "import fileinput"
   ]
  },
  {
   "cell_type": "code",
   "execution_count": 435,
   "metadata": {},
   "outputs": [],
   "source": [
    "#функция форматирования файла\n",
    "def file_formatting(filename):\n",
    "    with fileinput.FileInput(filename, inplace=True) as file:\n",
    "        for line in file:\n",
    "            print(line.replace('\t', ','), end='')\n",
    "    with fileinput.FileInput(filename, inplace=True) as file:\n",
    "        for line in file:\n",
    "            print(line.replace('#', ''), end='')"
   ]
  },
  {
   "cell_type": "markdown",
   "metadata": {},
   "source": [
    "Считываем матрицу замеров из файла \"data.csv\""
   ]
  },
  {
   "cell_type": "code",
   "execution_count": 436,
   "metadata": {},
   "outputs": [
    {
     "name": "stdout",
     "output_type": "stream",
     "text": [
      "Матрица замеров:\n",
      "     0    1    2    3    4    5    6    7\n",
      "0  8.0  0.0  0.0  0.0  0.0  0.0  0.0  0.0\n",
      "1  0.0  8.0  0.0  0.0  0.0  0.0  0.0  0.0\n",
      "2  0.0  0.0  0.0  0.0  6.0  6.0  6.0  6.0\n",
      "3  0.0  0.0  0.0  8.0  0.0  0.0  0.0  0.0\n"
     ]
    }
   ],
   "source": [
    "filename=\"Ответы на вопросы к защите ЛР №1\\вопрос №2 пример №2.csv\"\n",
    "file_formatting(filename)\n",
    "data_matrix = np.loadtxt(filename, delimiter=\",\")\n",
    "n,m=data_matrix.shape\n",
    "print(f\"Матрица замеров:\\n\"\n",
    "      f\"{pd.DataFrame(data=data_matrix)}\")"
   ]
  },
  {
   "cell_type": "markdown",
   "metadata": {},
   "source": [
    "Определим общее число испытаний $N$ (пар событий $x_i y_i$)"
   ]
  },
  {
   "cell_type": "code",
   "execution_count": 437,
   "metadata": {},
   "outputs": [
    {
     "data": {
      "text/markdown": [
       "\n",
       "$N=48.0$"
      ],
      "text/plain": [
       "<IPython.core.display.Markdown object>"
      ]
     },
     "execution_count": 437,
     "metadata": {},
     "output_type": "execute_result"
    }
   ],
   "source": [
    "N=data_matrix.sum()\n",
    "Markdown(rf\"\"\"\n",
    "$N={N}$\"\"\")"
   ]
  },
  {
   "cell_type": "markdown",
   "metadata": {},
   "source": [
    "$P(x_i,y_j)=\\frac{n_{ij}}{N}$ - совместная вероятность события $x_i,y_j$. На основе этой формулы построим матрицу совместных вероятностей событий"
   ]
  },
  {
   "cell_type": "code",
   "execution_count": 438,
   "metadata": {},
   "outputs": [
    {
     "name": "stdout",
     "output_type": "stream",
     "text": [
      "Матрица совместных вероятностей:\n",
      "          0         1    2         3      4      5      6      7\n",
      "0  0.166667  0.000000  0.0  0.000000  0.000  0.000  0.000  0.000\n",
      "1  0.000000  0.166667  0.0  0.000000  0.000  0.000  0.000  0.000\n",
      "2  0.000000  0.000000  0.0  0.000000  0.125  0.125  0.125  0.125\n",
      "3  0.000000  0.000000  0.0  0.166667  0.000  0.000  0.000  0.000\n"
     ]
    }
   ],
   "source": [
    "joint_probabilities_matrix=data_matrix/N\n",
    "print(f\"Матрица совместных вероятностей:\\n\"\n",
    "      f\"{pd.DataFrame(data=joint_probabilities_matrix)}\")"
   ]
  },
  {
   "cell_type": "markdown",
   "metadata": {},
   "source": [
    "Рассчитаем вектора $P(x_i)$ и $P(y_i)$"
   ]
  },
  {
   "cell_type": "code",
   "execution_count": 439,
   "metadata": {},
   "outputs": [
    {
     "data": {
      "text/markdown": [
       "\n",
       "$P(x_i)=$[0.16666667 0.16666667 0.5        0.16666667]$\\\\$\n",
       "$P(y_i)=$[0.16666667 0.16666667 0.         0.16666667 0.125      0.125\n",
       " 0.125      0.125     ]\n"
      ],
      "text/plain": [
       "<IPython.core.display.Markdown object>"
      ]
     },
     "execution_count": 439,
     "metadata": {},
     "output_type": "execute_result"
    }
   ],
   "source": [
    "p_x=np.zeros(n)\n",
    "p_y=np.zeros(m)\n",
    "for i in range(n):\n",
    "    for j in range(m):\n",
    "        p_x[i]+=joint_probabilities_matrix[i][j]\n",
    "for j in range(m):\n",
    "    for i in range(n):\n",
    "        p_y[j]+=joint_probabilities_matrix[i][j]\n",
    "Markdown(rf\"\"\"\n",
    "$P(x_i)=${p_x}$\\\\$\n",
    "$P(y_i)=${p_y}\n",
    "\"\"\")\n"
   ]
  },
  {
   "cell_type": "markdown",
   "metadata": {},
   "source": [
    "По формулам, указанным ниже найдём входную и выходную энтропию, энтропию сложного опыта XY и количество информации, которое несёт о событии X наблюдаемое событие Y.\n",
    "$\\\\H(X)=-\\sum_{i=1}^{4}P(x_i)log_2 P(x_i)\\\\$\n",
    "$H(Y)=-\\sum_{j=1}^{4}P(y_j)log_2 P(y_j)\\\\$\n",
    "$H(X,Y)=-\\sum_{i=1}^{4}\\sum_{j=1}^{4}P(x_i,y_j)log_2 P(x_i,y_j)\\\\$\n",
    "$I(X,Y)=H(X)+H(Y)-H(X,Y)\\\\$"
   ]
  },
  {
   "cell_type": "code",
   "execution_count": 440,
   "metadata": {},
   "outputs": [
    {
     "data": {
      "text/markdown": [
       "\n",
       "$H(X)=1.792481\\\\$\n",
       "$H(Y)=2.792481\\\\$\n",
       "$H(X,Y)=2.792481\\\\$\n",
       "$I(X,Y)=H(X)+H(Y)-H(X,Y)=1.792481+2.792481-2.792481=1.792481$\n"
      ],
      "text/plain": [
       "<IPython.core.display.Markdown object>"
      ]
     },
     "execution_count": 440,
     "metadata": {},
     "output_type": "execute_result"
    }
   ],
   "source": [
    "#функция для вычисления логарифма\n",
    "def log_2(x):\n",
    "    if x==0:\n",
    "        return 0\n",
    "    else: \n",
    "        return np.log2(x)\n",
    "    \n",
    "H_X=0.0\n",
    "H_Y=0.0\n",
    "H_X_Y=0.0\n",
    "for i in range(n):\n",
    "    H_X-=p_x[i]*log_2(p_x[i])\n",
    "for j in range(m):\n",
    "    H_Y-=p_y[j]*log_2(p_y[j])\n",
    "for i in range(n):\n",
    "    for j in range(m):\n",
    "        H_X_Y-=joint_probabilities_matrix[i][j]*log_2(joint_probabilities_matrix[i][j])\n",
    "H_X=np.round(H_X,6)\n",
    "H_Y=np.round(H_Y,6)\n",
    "H_X_Y=np.round(H_X_Y,6)\n",
    "I_X_Y=np.round(H_X+H_Y-H_X_Y,6)\n",
    "Markdown(rf\"\"\"\n",
    "$H(X)={H_X}\\\\$\n",
    "$H(Y)={H_Y}\\\\$\n",
    "$H(X,Y)={H_X_Y}\\\\$\n",
    "$I(X,Y)=H(X)+H(Y)-H(X,Y)={H_X}+{H_Y}-{H_X_Y}={I_X_Y}$\n",
    "\"\"\")"
   ]
  },
  {
   "cell_type": "markdown",
   "metadata": {},
   "source": [
    "Найдём условную энтропию события X при условии Y и условную энтропию события Y при условии X.\n",
    "$\\\\H(X/Y)=H(X)-I(X,Y)\\\\$\n",
    "$H(Y/X)=H(Y)-I(X,Y)$"
   ]
  },
  {
   "cell_type": "code",
   "execution_count": 441,
   "metadata": {},
   "outputs": [
    {
     "data": {
      "text/markdown": [
       "\n",
       "$H(X/Y)=1.792481-1.792481=0.0 - потери\\\\$\n",
       "$H(Y/X)=2.792481-1.792481=1.0 - шумы$\n"
      ],
      "text/plain": [
       "<IPython.core.display.Markdown object>"
      ]
     },
     "execution_count": 441,
     "metadata": {},
     "output_type": "execute_result"
    }
   ],
   "source": [
    "H_X_cond_Y=np.round(H_X-I_X_Y,6)\n",
    "H_Y_cond_X=np.round(H_Y-I_X_Y,6)\n",
    "Markdown(rf\"\"\"\n",
    "$H(X/Y)={H_X}-{I_X_Y}={H_X_cond_Y} - потери\\\\$\n",
    "$H(Y/X)={H_Y}-{I_X_Y}={H_Y_cond_X} - шумы$\n",
    "\"\"\")"
   ]
  },
  {
   "cell_type": "code",
   "execution_count": 442,
   "metadata": {},
   "outputs": [
    {
     "name": "stdout",
     "output_type": "stream",
     "text": [
      "Потерь нет\n"
     ]
    }
   ],
   "source": [
    "if H_X_cond_Y==0:\n",
    "    print('Потерь нет')\n",
    "if H_Y_cond_X==0:\n",
    "    print('Шумов нет')\n",
    "if I_X_Y==0:\n",
    "    print('I=0')"
   ]
  },
  {
   "cell_type": "markdown",
   "metadata": {},
   "source": [
    "Для проверки составим матрицу условных вероятностей.\n",
    "$\\\\P(x_i/y_j)=\\frac{P(x_i,y_j)}{P(y_j)}$"
   ]
  },
  {
   "cell_type": "code",
   "execution_count": 443,
   "metadata": {},
   "outputs": [
    {
     "name": "stdout",
     "output_type": "stream",
     "text": [
      "Матрица условных вероятностей:\n",
      "     0    1    2    3    4    5    6    7\n",
      "0  1.0  0.0  0.0  0.0  0.0  0.0  0.0  0.0\n",
      "1  0.0  1.0  0.0  0.0  0.0  0.0  0.0  0.0\n",
      "2  0.0  0.0  0.0  0.0  1.0  1.0  1.0  1.0\n",
      "3  0.0  0.0  0.0  1.0  0.0  0.0  0.0  0.0\n"
     ]
    }
   ],
   "source": [
    "conditional_probability_matrix=np.zeros((n,m))\n",
    "for i in range(n):\n",
    "    for j in range(m):\n",
    "        if p_y[j]==0:\n",
    "            conditional_probability_matrix[i][j]=0\n",
    "        else:\n",
    "            conditional_probability_matrix[i][j]=joint_probabilities_matrix[i][j]/p_y[j]\n",
    "print(f\"Матрица условных вероятностей:\\n\"\n",
    "      f\"{pd.DataFrame(data=conditional_probability_matrix)}\")"
   ]
  },
  {
   "cell_type": "markdown",
   "metadata": {},
   "source": [
    "Найдём условную энтропию события X при условии Y:\n",
    "$\\\\H(X/Y)=-\\sum_{i=1}^{4}\\sum_{j=1}^{4}P(x_i,y_j)log_2 P(x_i/y_j)\\\\$\n",
    "$I_п(X,Y)=H(X)-H(X/Y)$"
   ]
  },
  {
   "cell_type": "code",
   "execution_count": 444,
   "metadata": {},
   "outputs": [
    {
     "data": {
      "text/markdown": [
       "\n",
       "$H_п(X/Y)=0.0\\\\$\n",
       "$I_п(X,Y)=H(X)-H(X/Y)=1.792481-0.0=1.792481$\n"
      ],
      "text/plain": [
       "<IPython.core.display.Markdown object>"
      ]
     },
     "execution_count": 444,
     "metadata": {},
     "output_type": "execute_result"
    }
   ],
   "source": [
    "H_X_cond_Y_check=0.0\n",
    "I_X_Y_check=0.0\n",
    "for i in range(n):\n",
    "    for j in range(m):\n",
    "        H_X_cond_Y_check-=joint_probabilities_matrix[i][j]*log_2(conditional_probability_matrix[i][j])\n",
    "H_X_cond_Y_check=np.round(H_X_cond_Y_check,6)\n",
    "I_X_Y_check=np.round(H_X-H_X_cond_Y_check,6)\n",
    "Markdown(rf\"\"\"\n",
    "$H_п(X/Y)={H_X_cond_Y_check}\\\\$\n",
    "$I_п(X,Y)=H(X)-H(X/Y)={H_X}-{H_X_cond_Y_check}={I_X_Y_check}$\n",
    "\"\"\")"
   ]
  },
  {
   "cell_type": "code",
   "execution_count": 445,
   "metadata": {},
   "outputs": [
    {
     "name": "stdout",
     "output_type": "stream",
     "text": [
      "Проверка выполнена успешно!\n"
     ]
    }
   ],
   "source": [
    "if (H_X_cond_Y==H_X_cond_Y_check)&(I_X_Y==I_X_Y_check):\n",
    "    print(\"Проверка выполнена успешно!\")\n",
    "else:\n",
    "    print(\"Ошибка в вычислениях\")"
   ]
  }
 ],
 "metadata": {
  "kernelspec": {
   "display_name": "Python 3",
   "language": "python",
   "name": "python3"
  },
  "language_info": {
   "codemirror_mode": {
    "name": "ipython",
    "version": 3
   },
   "file_extension": ".py",
   "mimetype": "text/x-python",
   "name": "python",
   "nbconvert_exporter": "python",
   "pygments_lexer": "ipython3",
   "version": "3.12.2"
  }
 },
 "nbformat": 4,
 "nbformat_minor": 2
}
