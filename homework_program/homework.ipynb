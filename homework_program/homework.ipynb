{
 "cells": [
  {
   "cell_type": "markdown",
   "metadata": {},
   "source": [
    "Подключаем библиотеки для работы с массивами и построения графиков."
   ]
  },
  {
   "cell_type": "code",
   "execution_count": 1,
   "metadata": {},
   "outputs": [],
   "source": [
    "import pandas as pd\n",
    "import matplotlib.pyplot as plt\n",
    "import numpy as np\n",
    "import csv\n",
    "from IPython.display import Markdown"
   ]
  },
  {
   "cell_type": "markdown",
   "metadata": {},
   "source": [
    "Считываем матрицу замеров из файла \"data.csv\""
   ]
  },
  {
   "cell_type": "code",
   "execution_count": 2,
   "metadata": {},
   "outputs": [
    {
     "name": "stdout",
     "output_type": "stream",
     "text": [
      "Матрица замеров:\n",
      "      0     1     2     3\n",
      "0   0.0   0.0   0.0   0.0\n",
      "1  12.0  12.0  12.0  12.0\n",
      "2  10.0  10.0   0.0  10.0\n",
      "3   0.0  14.0   4.0   4.0\n"
     ]
    }
   ],
   "source": [
    "data_matrix = np.loadtxt(\"data_homework_Orlov.csv\", delimiter=\",\")\n",
    "n,m=data_matrix.shape\n",
    "print(f\"Матрица замеров:\\n\"\n",
    "      f\"{pd.DataFrame(data=data_matrix)}\")"
   ]
  },
  {
   "cell_type": "markdown",
   "metadata": {},
   "source": [
    "Определим общее число испытаний $N$ (пар событий $x_i y_i$)"
   ]
  },
  {
   "cell_type": "code",
   "execution_count": 3,
   "metadata": {},
   "outputs": [
    {
     "data": {
      "text/markdown": [
       "\n",
       "$N=100.0$"
      ],
      "text/plain": [
       "<IPython.core.display.Markdown object>"
      ]
     },
     "execution_count": 3,
     "metadata": {},
     "output_type": "execute_result"
    }
   ],
   "source": [
    "N=data_matrix.sum()\n",
    "Markdown(rf\"\"\"\n",
    "$N={N}$\"\"\")"
   ]
  },
  {
   "cell_type": "markdown",
   "metadata": {},
   "source": [
    "$P(x_i,y_j)=\\frac{n_{ij}}{N}$ - совместная вероятность события $x_i,y_j$. На основе этой формулы построим матрицу совместных вероятностей событий"
   ]
  },
  {
   "cell_type": "code",
   "execution_count": 4,
   "metadata": {},
   "outputs": [
    {
     "name": "stdout",
     "output_type": "stream",
     "text": [
      "Матрица совместных вероятностей:\n",
      "      0     1     2     3\n",
      "0  0.00  0.00  0.00  0.00\n",
      "1  0.12  0.12  0.12  0.12\n",
      "2  0.10  0.10  0.00  0.10\n",
      "3  0.00  0.14  0.04  0.04\n"
     ]
    }
   ],
   "source": [
    "joint_probabilities_matrix=data_matrix/N\n",
    "print(f\"Матрица совместных вероятностей:\\n\"\n",
    "      f\"{pd.DataFrame(data=joint_probabilities_matrix)}\")"
   ]
  },
  {
   "cell_type": "markdown",
   "metadata": {},
   "source": [
    "Рассчитаем вектора $P(x_i)$ и $P(y_i)$"
   ]
  },
  {
   "cell_type": "code",
   "execution_count": 5,
   "metadata": {},
   "outputs": [
    {
     "data": {
      "text/markdown": [
       "\n",
       "$P(x_i)=$[0.   0.48 0.3  0.22]$\\\\$\n",
       "$P(y_i)=$[0.22 0.36 0.16 0.26]\n"
      ],
      "text/plain": [
       "<IPython.core.display.Markdown object>"
      ]
     },
     "execution_count": 5,
     "metadata": {},
     "output_type": "execute_result"
    }
   ],
   "source": [
    "p_x=np.zeros(n)\n",
    "p_y=np.zeros(m)\n",
    "for i in range(n):\n",
    "    for j in range(m):\n",
    "        p_x[i]+=joint_probabilities_matrix[i][j]\n",
    "for j in range(m):\n",
    "    for i in range(n):\n",
    "        p_y[j]+=joint_probabilities_matrix[i][j]\n",
    "Markdown(rf\"\"\"\n",
    "$P(x_i)=${p_x}$\\\\$\n",
    "$P(y_i)=${p_y}\n",
    "\"\"\")\n"
   ]
  },
  {
   "cell_type": "markdown",
   "metadata": {},
   "source": [
    "По формулам, указанным ниже найдём входную и выходную энтропию, энтропию сложного опыта XY и количество информации, которое несёт о событии X наблюдаемое событие Y.\n",
    "$\\\\H(X)=-\\sum_{i=1}^{4}P(x_i)log_2 P(x_i)\\\\$\n",
    "$H(Y)=-\\sum_{j=1}^{4}P(y_j)log_2 P(y_j)\\\\$\n",
    "$H(X,Y)=-\\sum_{i=1}^{4}\\sum_{j=1}^{4}P(x_i,y_j)log_2 P(x_i,y_j)\\\\$\n",
    "$I(X,Y)=H(X)+H(Y)-H(X,Y)\\\\$"
   ]
  },
  {
   "cell_type": "code",
   "execution_count": 6,
   "metadata": {},
   "outputs": [
    {
     "data": {
      "text/markdown": [
       "\n",
       "$H(X)=1.509932\\\\$\n",
       "$H(Y)=1.939494\\\\$\n",
       "$H(X,Y)=3.233466\\\\$\n",
       "$I(X,Y)=H(X)+H(Y)-H(X,Y)=1.509932+1.939494-3.233466=0.21596$\n"
      ],
      "text/plain": [
       "<IPython.core.display.Markdown object>"
      ]
     },
     "execution_count": 6,
     "metadata": {},
     "output_type": "execute_result"
    }
   ],
   "source": [
    "#функция для вычисления логарифма\n",
    "def log_2(x):\n",
    "    if x==0:\n",
    "        return 0\n",
    "    else: \n",
    "        return np.log2(x)\n",
    "    \n",
    "H_X=0.0\n",
    "H_Y=0.0\n",
    "H_X_Y=0.0\n",
    "for i in range(n):\n",
    "    H_X-=p_x[i]*log_2(p_x[i])\n",
    "for j in range(m):\n",
    "    H_Y-=p_y[j]*log_2(p_y[j])\n",
    "for i in range(n):\n",
    "    for j in range(m):\n",
    "        H_X_Y-=joint_probabilities_matrix[i][j]*log_2(joint_probabilities_matrix[i][j])\n",
    "H_X=np.round(H_X,6)\n",
    "H_Y=np.round(H_Y,6)\n",
    "H_X_Y=np.round(H_X_Y,6)\n",
    "I_X_Y=np.round(H_X+H_Y-H_X_Y,6)\n",
    "Markdown(rf\"\"\"\n",
    "$H(X)={H_X}\\\\$\n",
    "$H(Y)={H_Y}\\\\$\n",
    "$H(X,Y)={H_X_Y}\\\\$\n",
    "$I(X,Y)=H(X)+H(Y)-H(X,Y)={H_X}+{H_Y}-{H_X_Y}={I_X_Y}$\n",
    "\"\"\")"
   ]
  },
  {
   "cell_type": "markdown",
   "metadata": {},
   "source": [
    "Найдём условную энтропию события X при условии Y и условную энтропию события Y при условии X.\n",
    "$\\\\H(X/Y)=H(X)-I(X,Y)\\\\$\n",
    "$H(Y/X)=H(Y)-I(X,Y)$"
   ]
  },
  {
   "cell_type": "code",
   "execution_count": 7,
   "metadata": {},
   "outputs": [
    {
     "data": {
      "text/markdown": [
       "\n",
       "$H(X/Y)=1.509932-0.21596=1.293972\\\\$\n",
       "$H(Y/X)=1.939494-0.21596=1.723534$\n"
      ],
      "text/plain": [
       "<IPython.core.display.Markdown object>"
      ]
     },
     "execution_count": 7,
     "metadata": {},
     "output_type": "execute_result"
    }
   ],
   "source": [
    "H_X_cond_Y=np.round(H_X-I_X_Y,6)\n",
    "H_Y_cond_X=np.round(H_Y-I_X_Y,6)\n",
    "Markdown(rf\"\"\"\n",
    "$H(X/Y)={H_X}-{I_X_Y}={H_X_cond_Y}\\\\$\n",
    "$H(Y/X)={H_Y}-{I_X_Y}={H_Y_cond_X}$\n",
    "\"\"\")"
   ]
  },
  {
   "cell_type": "markdown",
   "metadata": {},
   "source": [
    "Для проверки составим матрицу условных вероятностей.\n",
    "$\\\\P(x_i/y_j)=\\frac{P(x_i,y_j)}{P(y_j)}$"
   ]
  },
  {
   "cell_type": "code",
   "execution_count": 8,
   "metadata": {},
   "outputs": [
    {
     "name": "stdout",
     "output_type": "stream",
     "text": [
      "Матрица условных вероятностей:\n",
      "          0         1     2         3\n",
      "0  0.000000  0.000000  0.00  0.000000\n",
      "1  0.545455  0.333333  0.75  0.461538\n",
      "2  0.454545  0.277778  0.00  0.384615\n",
      "3  0.000000  0.388889  0.25  0.153846\n"
     ]
    }
   ],
   "source": [
    "conditional_probability_matrix=np.zeros((n,m))\n",
    "for i in range(n):\n",
    "    for j in range(m):\n",
    "        if p_y[j]==0:\n",
    "            conditional_probability_matrix[i][j]=0\n",
    "        else:\n",
    "            conditional_probability_matrix[i][j]=joint_probabilities_matrix[i][j]/p_y[j]\n",
    "print(f\"Матрица условных вероятностей:\\n\"\n",
    "      f\"{pd.DataFrame(data=conditional_probability_matrix)}\")"
   ]
  },
  {
   "cell_type": "markdown",
   "metadata": {},
   "source": [
    "Найдём условную энтропию события X при условии Y:\n",
    "$\\\\H(X/Y)=-\\sum_{i=1}^{4}\\sum_{j=1}^{4}P(x_i,y_j)log_2 P(x_i/y_j)\\\\$\n",
    "$I_п(X,Y)=H(X)-H(X/Y)$"
   ]
  },
  {
   "cell_type": "code",
   "execution_count": 11,
   "metadata": {},
   "outputs": [
    {
     "data": {
      "text/markdown": [
       "\n",
       "$H_п(X/Y)=1.293972\\\\$\n",
       "$I_п(X,Y)=H(X)-H(X/Y)=1.509932-1.293972=0.21596$\n"
      ],
      "text/plain": [
       "<IPython.core.display.Markdown object>"
      ]
     },
     "execution_count": 11,
     "metadata": {},
     "output_type": "execute_result"
    }
   ],
   "source": [
    "H_X_cond_Y_check=0.0\n",
    "I_X_Y_check=0.0\n",
    "for i in range(n):\n",
    "    for j in range(m):\n",
    "        H_X_cond_Y_check-=joint_probabilities_matrix[i][j]*log_2(conditional_probability_matrix[i][j])\n",
    "H_X_cond_Y_check=np.round(H_X_cond_Y_check,6)\n",
    "I_X_Y_check=np.round(H_X-H_X_cond_Y_check,6)\n",
    "Markdown(rf\"\"\"\n",
    "$H_п(X/Y)={H_X_cond_Y_check}\\\\$\n",
    "$I_п(X,Y)=H(X)-H(X/Y)={H_X}-{H_X_cond_Y_check}={I_X_Y_check}$\n",
    "\"\"\")"
   ]
  },
  {
   "cell_type": "code",
   "execution_count": 10,
   "metadata": {},
   "outputs": [
    {
     "name": "stdout",
     "output_type": "stream",
     "text": [
      "Проверка выполнена успешно!\n"
     ]
    }
   ],
   "source": [
    "if (H_X_cond_Y==H_X_cond_Y_check)&(I_X_Y==I_X_Y_check):\n",
    "    print(\"Проверка выполнена успешно!\")\n",
    "else:\n",
    "    print(\"Ошибка в вычислениях\")"
   ]
  }
 ],
 "metadata": {
  "kernelspec": {
   "display_name": "Python 3",
   "language": "python",
   "name": "python3"
  },
  "language_info": {
   "codemirror_mode": {
    "name": "ipython",
    "version": 3
   },
   "file_extension": ".py",
   "mimetype": "text/x-python",
   "name": "python",
   "nbconvert_exporter": "python",
   "pygments_lexer": "ipython3",
   "version": "3.12.2"
  }
 },
 "nbformat": 4,
 "nbformat_minor": 2
}
